{
 "cells": [
  {
   "cell_type": "code",
   "execution_count": null,
   "metadata": {},
   "outputs": [],
   "source": [
    "import pandas as pd\n",
    "import numpy as np\n",
    "import scipy as sp\n",
    "from sklearn.svm import LinearSVC\n",
    "from sklearn.model_selection import train_test_split\n",
    "from sklearn import metrics\n",
    "import seaborn as sns\n",
    "import matplotlib.pyplot as plt\n",
    "%matplotlib inline"
   ]
  },
  {
   "cell_type": "markdown",
   "metadata": {},
   "source": [
    "# Load Data\n",
    "----"
   ]
  },
  {
   "cell_type": "code",
   "execution_count": null,
   "metadata": {},
   "outputs": [],
   "source": [
    "columns = [\"Age\", \"Sex\", \"On Thyroxine\", \"Query on Thyroxine\", \n",
    "           \"On Antithyroid Medication\", \"Sick\", \"Pregnant\", \n",
    "           \"Thyroid Surgery\", \"I131 Treatment\", \"Query Hypothyroid\", \n",
    "           \"Query Hyperthyroid\", \"Lithium\", \"Goitre\", \"Tumor\", \n",
    "           \"Hypopituitary\", \" Psych\", \"TSH Measured\", \"TSH\", \"T3 Measured\", \n",
    "           \"T3\", \"TT4 Measured\", \"TT4\", \"T4U Measured\", \"T4U\", \n",
    "           \"FTI Measured\", \"FTI\", \"TBG Measured\", \"TBG\", \"Referral Source\", \"Category\"]"
   ]
  },
  {
   "cell_type": "code",
   "execution_count": null,
   "metadata": {},
   "outputs": [],
   "source": [
    "hyper_data = pd.read_csv(\"allhyper.csv\", names=columns)\n",
    "hypo_data = pd.read_csv(\"allhypo.csv\", names=columns)\n",
    "sick_data = pd.read_csv(\"sick.csv\", names=columns)"
   ]
  },
  {
   "cell_type": "code",
   "execution_count": null,
   "metadata": {},
   "outputs": [],
   "source": [
    "def parse_row(row):\n",
    "    row = row.split(\".\")[0]\n",
    "    return row"
   ]
  },
  {
   "cell_type": "markdown",
   "metadata": {},
   "source": [
    "# Hyperthyroid Data\n",
    "---"
   ]
  },
  {
   "cell_type": "code",
   "execution_count": null,
   "metadata": {},
   "outputs": [],
   "source": [
    "hyper_data['Category'] = hyper_data['Category'].apply(parse_row)"
   ]
  },
  {
   "cell_type": "code",
   "execution_count": null,
   "metadata": {},
   "outputs": [],
   "source": [
    "def to_hyperthyroid(row):\n",
    "    if row != \"negative\":\n",
    "        row = \"hyperthyroid\"\n",
    "    return row"
   ]
  },
  {
   "cell_type": "code",
   "execution_count": null,
   "metadata": {},
   "outputs": [],
   "source": [
    "hyper_data['Category'] = hyper_data['Category'].apply(to_hyperthyroid)"
   ]
  },
  {
   "cell_type": "code",
   "execution_count": null,
   "metadata": {
    "scrolled": true
   },
   "outputs": [],
   "source": [
    "hyper_data['Category'].value_counts()"
   ]
  },
  {
   "cell_type": "code",
   "execution_count": null,
   "metadata": {
    "scrolled": true
   },
   "outputs": [],
   "source": [
    "hyper_data.head()"
   ]
  },
  {
   "cell_type": "markdown",
   "metadata": {},
   "source": [
    "# Hypothyroid Data\n",
    "---"
   ]
  },
  {
   "cell_type": "code",
   "execution_count": null,
   "metadata": {},
   "outputs": [],
   "source": [
    "hypo_data['Category'] = hypo_data['Category'].apply(parse_row)"
   ]
  },
  {
   "cell_type": "code",
   "execution_count": null,
   "metadata": {},
   "outputs": [],
   "source": [
    "def to_hypothyroid(row):\n",
    "    if row != \"negative\":\n",
    "        row = \"hypothyroid\"\n",
    "    return row"
   ]
  },
  {
   "cell_type": "code",
   "execution_count": null,
   "metadata": {},
   "outputs": [],
   "source": [
    "hypo_data['Category'] = hypo_data['Category'].apply(to_hypothyroid)"
   ]
  },
  {
   "cell_type": "code",
   "execution_count": null,
   "metadata": {},
   "outputs": [],
   "source": [
    "hypo_data['Category'].value_counts()"
   ]
  },
  {
   "cell_type": "code",
   "execution_count": null,
   "metadata": {
    "scrolled": true
   },
   "outputs": [],
   "source": [
    "hypo_data.head()"
   ]
  },
  {
   "cell_type": "markdown",
   "metadata": {},
   "source": [
    "# Sick Thyroid Data\n",
    "---"
   ]
  },
  {
   "cell_type": "code",
   "execution_count": null,
   "metadata": {},
   "outputs": [],
   "source": [
    "sick_data['Category'] = sick_data['Category'].apply(parse_row)"
   ]
  },
  {
   "cell_type": "code",
   "execution_count": null,
   "metadata": {},
   "outputs": [],
   "source": [
    "sick_data['Category'].value_counts()"
   ]
  },
  {
   "cell_type": "code",
   "execution_count": null,
   "metadata": {
    "scrolled": false
   },
   "outputs": [],
   "source": [
    "sick_data.head()"
   ]
  },
  {
   "cell_type": "markdown",
   "metadata": {},
   "source": [
    "# Combined Thyroid Data\n",
    "---"
   ]
  },
  {
   "cell_type": "code",
   "execution_count": null,
   "metadata": {},
   "outputs": [],
   "source": [
    "thyroid_frames = [hyper_data, hypo_data, sick_data]"
   ]
  },
  {
   "cell_type": "code",
   "execution_count": null,
   "metadata": {},
   "outputs": [],
   "source": [
    "thyroid_data = pd.concat(thyroid_frames).drop_duplicates()"
   ]
  },
  {
   "cell_type": "code",
   "execution_count": null,
   "metadata": {},
   "outputs": [],
   "source": [
    "thyroid_data = thyroid_data.drop('Referral Source', axis=1)"
   ]
  },
  {
   "cell_type": "code",
   "execution_count": null,
   "metadata": {
    "scrolled": false
   },
   "outputs": [],
   "source": [
    "thyroid_data[\"Category\"].value_counts()"
   ]
  },
  {
   "cell_type": "code",
   "execution_count": null,
   "metadata": {},
   "outputs": [],
   "source": [
    "thyroid_data.columns"
   ]
  },
  {
   "cell_type": "markdown",
   "metadata": {},
   "source": [
    "# Missing Data Preprocessing\n",
    "----"
   ]
  },
  {
   "cell_type": "code",
   "execution_count": null,
   "metadata": {},
   "outputs": [],
   "source": [
    "def find_missing_columns(dataframe, print_cols = False):\n",
    "    # Find columns with too many missing values\n",
    "    count = 1\n",
    "    missing_data_columns = []\n",
    "\n",
    "    for column in dataframe:\n",
    "        if print_cols:\n",
    "            print(count, \":\", column, \"\\n\", dataframe[column].unique(), \"\\n\", dataframe[column].value_counts())\n",
    "            print(\"Missing data? \", \"?\" in dataframe[column].unique())\n",
    "            print(\"\\n=========\\n\")\n",
    "            count += 1\n",
    "        \n",
    "        if \"?\" in dataframe[column].unique():\n",
    "            missing_data_columns.append(column)\n",
    "\n",
    "    return missing_data_columns"
   ]
  },
  {
   "cell_type": "code",
   "execution_count": null,
   "metadata": {},
   "outputs": [],
   "source": [
    "find_missing_columns(thyroid_data)"
   ]
  },
  {
   "cell_type": "code",
   "execution_count": null,
   "metadata": {},
   "outputs": [],
   "source": [
    "'''\n",
    "Drop Columns due to too many missing data:\n",
    "'TBG'\n",
    "'TBG Measured'\n",
    "'''\n",
    "thyroid_data = thyroid_data.drop('TBG', axis=1)\n",
    "thyroid_data = thyroid_data.drop(\"TBG Measured\", axis=1)"
   ]
  },
  {
   "cell_type": "code",
   "execution_count": null,
   "metadata": {
    "scrolled": true
   },
   "outputs": [],
   "source": [
    "thyroid_data.head()"
   ]
  },
  {
   "cell_type": "markdown",
   "metadata": {},
   "source": [
    "# Missing Data Preprocessing \n",
    "- Identify missing and abnormal data"
   ]
  },
  {
   "cell_type": "code",
   "execution_count": null,
   "metadata": {},
   "outputs": [],
   "source": [
    "def fill_missing_data(dataframe, category_label):\n",
    "    category = dataframe[category_label]\n",
    "    cat_missing = category[category != '?']\n",
    "    cat_val = pd.to_numeric(cat_missing).mean()\n",
    "    condition = dataframe[category_label]== '?'\n",
    "    dataframe.loc[condition, category_label] = cat_val"
   ]
  },
  {
   "cell_type": "code",
   "execution_count": null,
   "metadata": {},
   "outputs": [],
   "source": [
    "def print_column(dataframe, column):\n",
    "    with pd.option_context('display.max_rows', None, 'display.max_columns', None):\n",
    "        print(dataframe[column])"
   ]
  },
  {
   "cell_type": "markdown",
   "metadata": {},
   "source": [
    "## Age"
   ]
  },
  {
   "cell_type": "code",
   "execution_count": null,
   "metadata": {},
   "outputs": [],
   "source": [
    "thyroid_data.loc[thyroid_data['Age'] == '455', 'Age'] = '45'\n",
    "fill_missing_data(thyroid_data, 'Age')\n",
    "# print_column(thyroid_data, 'Age')"
   ]
  },
  {
   "cell_type": "markdown",
   "metadata": {},
   "source": [
    "## TSH"
   ]
  },
  {
   "cell_type": "code",
   "execution_count": null,
   "metadata": {},
   "outputs": [],
   "source": [
    "fill_missing_data(thyroid_data, 'TSH')\n",
    "# print_column(thyroid_data, 'TSH')"
   ]
  },
  {
   "cell_type": "markdown",
   "metadata": {},
   "source": [
    "## T3"
   ]
  },
  {
   "cell_type": "code",
   "execution_count": null,
   "metadata": {},
   "outputs": [],
   "source": [
    "fill_missing_data(thyroid_data, 'T3')\n",
    "# print_column(thyroid_data, 'T3')"
   ]
  },
  {
   "cell_type": "markdown",
   "metadata": {},
   "source": [
    "## TT4"
   ]
  },
  {
   "cell_type": "code",
   "execution_count": null,
   "metadata": {},
   "outputs": [],
   "source": [
    "fill_missing_data(thyroid_data, 'TT4')\n",
    "# print_column(thyroid_data, 'TT4')"
   ]
  },
  {
   "cell_type": "markdown",
   "metadata": {},
   "source": [
    "## T4U"
   ]
  },
  {
   "cell_type": "code",
   "execution_count": null,
   "metadata": {},
   "outputs": [],
   "source": [
    "fill_missing_data(thyroid_data, 'T4U')\n",
    "# print_column(thyroid_data, 'T4U')"
   ]
  },
  {
   "cell_type": "markdown",
   "metadata": {},
   "source": [
    "## FTI"
   ]
  },
  {
   "cell_type": "code",
   "execution_count": null,
   "metadata": {},
   "outputs": [],
   "source": [
    "fill_missing_data(thyroid_data, 'FTI')\n",
    "# print_column(thyroid_data, 'FTI')"
   ]
  },
  {
   "cell_type": "markdown",
   "metadata": {},
   "source": [
    "## Sex"
   ]
  },
  {
   "cell_type": "code",
   "execution_count": null,
   "metadata": {},
   "outputs": [],
   "source": [
    "thyroid_data = thyroid_data[thyroid_data['Sex'] != '?']"
   ]
  },
  {
   "cell_type": "code",
   "execution_count": null,
   "metadata": {},
   "outputs": [],
   "source": [
    "# Last check to ensure no missing data\n",
    "find_missing_columns(thyroid_data)"
   ]
  },
  {
   "cell_type": "markdown",
   "metadata": {},
   "source": [
    "# Separate Columns for Further Processing\n",
    "------"
   ]
  },
  {
   "cell_type": "code",
   "execution_count": null,
   "metadata": {},
   "outputs": [],
   "source": [
    "def separate_columns(dataframe):\n",
    "    continuous = []\n",
    "    categorical = []\n",
    "    \n",
    "    for column in dataframe:\n",
    "        try:\n",
    "            pd.to_numeric(dataframe[column]) # a hack, but oh well, it works lmfao\n",
    "            continuous.append(column)\n",
    "        except ValueError:\n",
    "            if column != 'Category' and column != 'Sex':\n",
    "                categorical.append(column)\n",
    "            continue\n",
    "\n",
    "    return continuous,categorical"
   ]
  },
  {
   "cell_type": "code",
   "execution_count": null,
   "metadata": {},
   "outputs": [],
   "source": [
    "continuous_cols, categorical_cols = separate_columns(thyroid_data)"
   ]
  },
  {
   "cell_type": "markdown",
   "metadata": {},
   "source": [
    "# Scale Continuous Data\n",
    "-----"
   ]
  },
  {
   "cell_type": "code",
   "execution_count": null,
   "metadata": {},
   "outputs": [],
   "source": [
    "def normalize_column(dataframe, column):\n",
    "    dataframe[column] = dataframe[column].apply(pd.to_numeric)\n",
    "    dataframe[column] = ((dataframe[column]-dataframe[column].min())/\n",
    "                        (dataframe[column].max()-dataframe[column].min()))"
   ]
  },
  {
   "cell_type": "code",
   "execution_count": null,
   "metadata": {},
   "outputs": [],
   "source": [
    "for col in continuous_cols:\n",
    "    normalize_column(thyroid_data, col)"
   ]
  },
  {
   "cell_type": "markdown",
   "metadata": {},
   "source": [
    "# Binarize Categorical Data\n",
    "-----"
   ]
  },
  {
   "cell_type": "code",
   "execution_count": null,
   "metadata": {},
   "outputs": [],
   "source": [
    "# Binarize Sex column\n",
    "conditionF = thyroid_data['Sex'] == 'F'\n",
    "conditionM = thyroid_data['Sex'] == 'M'\n",
    "\n",
    "thyroid_data.loc[conditionF, 'Sex'] = 0\n",
    "thyroid_data.loc[conditionM, 'Sex'] = 1"
   ]
  },
  {
   "cell_type": "code",
   "execution_count": null,
   "metadata": {},
   "outputs": [],
   "source": [
    "def convert_category(dataframe, column):\n",
    "    conditionF = dataframe[column] == 'f'\n",
    "    conditionT = dataframe[column] == 't'\n",
    "\n",
    "    dataframe.loc[conditionF, column] = 0\n",
    "    dataframe.loc[conditionT, column] = 1"
   ]
  },
  {
   "cell_type": "code",
   "execution_count": null,
   "metadata": {},
   "outputs": [],
   "source": [
    "# Binarize T/F columns\n",
    "for col in categorical_cols:\n",
    "    convert_category(thyroid_data, col)"
   ]
  },
  {
   "cell_type": "markdown",
   "metadata": {},
   "source": [
    "# Balance Categorical Data\n",
    "-------"
   ]
  },
  {
   "cell_type": "code",
   "execution_count": null,
   "metadata": {},
   "outputs": [],
   "source": [
    "def dataset_to_sample(dataset, sample=True):\n",
    "    if sample:\n",
    "        without_negative_class = dataset[dataset['Category'] != 'negative']\n",
    "        negative_class = dataset[dataset['Category'] == 'negative']\n",
    "        negative_samples = negative_class.sample(220) # Size of the 2nd most data\n",
    "        return without_negative_class.append(negative_samples)\n",
    "    else:\n",
    "        return dataset"
   ]
  },
  {
   "cell_type": "markdown",
   "metadata": {},
   "source": [
    "# Save Data To CSV File\n",
    "----------"
   ]
  },
  {
   "cell_type": "markdown",
   "metadata": {},
   "source": [
    "### Balanced Data"
   ]
  },
  {
   "cell_type": "code",
   "execution_count": null,
   "metadata": {},
   "outputs": [],
   "source": [
    "thyroid_data_balanced = dataset_to_sample(thyroid_data, sample=True)"
   ]
  },
  {
   "cell_type": "code",
   "execution_count": null,
   "metadata": {
    "scrolled": false
   },
   "outputs": [],
   "source": [
    "thyroid_data_balanced[\"Category\"].value_counts()"
   ]
  },
  {
   "cell_type": "code",
   "execution_count": null,
   "metadata": {},
   "outputs": [],
   "source": [
    "thyroid_data_balanced.to_csv(\"/Users/deontaepharr/Desktop/Projects/DM_Project/thyroid_balanced.csv\")"
   ]
  },
  {
   "cell_type": "markdown",
   "metadata": {},
   "source": [
    "### Unbalanced Data"
   ]
  },
  {
   "cell_type": "code",
   "execution_count": null,
   "metadata": {},
   "outputs": [],
   "source": [
    "thyroid_data_unbalanced = dataset_to_sample(thyroid_data, sample=False)"
   ]
  },
  {
   "cell_type": "code",
   "execution_count": null,
   "metadata": {
    "scrolled": false
   },
   "outputs": [],
   "source": [
    "thyroid_data_unbalanced[\"Category\"].value_counts()"
   ]
  },
  {
   "cell_type": "code",
   "execution_count": null,
   "metadata": {},
   "outputs": [],
   "source": [
    "thyroid_data_unbalanced.to_csv(\"/Users/deontaepharr/Desktop/Projects/DM_Project/thyroid_unbalanced.csv\")"
   ]
  }
 ],
 "metadata": {
  "kernelspec": {
   "display_name": "Python 3",
   "language": "python",
   "name": "python3"
  },
  "language_info": {
   "codemirror_mode": {
    "name": "ipython",
    "version": 3
   },
   "file_extension": ".py",
   "mimetype": "text/x-python",
   "name": "python",
   "nbconvert_exporter": "python",
   "pygments_lexer": "ipython3",
   "version": "3.6.5"
  }
 },
 "nbformat": 4,
 "nbformat_minor": 2
}
